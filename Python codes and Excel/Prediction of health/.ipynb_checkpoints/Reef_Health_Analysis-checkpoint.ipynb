{
 "cells": [
  {
   "cell_type": "markdown",
   "id": "7b42a663-f9a5-4c93-9018-a61ec783c523",
   "metadata": {},
   "source": [
    "# EDA"
   ]
  },
  {
   "cell_type": "code",
   "execution_count": null,
   "id": "5a67d1d4-49e2-4f31-98eb-c5e45c2c9224",
   "metadata": {},
   "outputs": [],
   "source": [
    "import pandas as pd\n",
    "import matplotlib.pyplot as plt\n",
    "import seaborn as sns\n",
    "import numpy as np\n",
    "import warnings\n",
    "\n",
    "warnings.simplefilter(action='ignore', category=FutureWarning)"
   ]
  },
  {
   "cell_type": "code",
   "execution_count": null,
   "id": "2a95cda3-427c-4472-b4f3-cca7e35d9a27",
   "metadata": {},
   "outputs": [],
   "source": [
    "file_path = r\"File_location\\Merged.xlsx\"\n",
    "df = pd.read_excel(file_path)\n",
    "df.fillna(0, inplace=True)\n",
    "df.to_excel(file_path, index=False, engine=\"openpyxl\")\n",
    "print(f\"All NULL values replaced with 0 and saved in: {file_path}\")"
   ]
  },
  {
   "cell_type": "markdown",
   "id": "a241a10a-586d-48b0-8e7f-f8930e6cd0a8",
   "metadata": {},
   "source": [
    "### Load Reef Health Data"
   ]
  },
  {
   "cell_type": "code",
   "execution_count": null,
   "id": "9317326f-c19a-4b93-9cf9-06492cfc6d7c",
   "metadata": {},
   "outputs": [],
   "source": [
    "file_path = r\"Merged.xlsx\"\n",
    "df = pd.read_excel(file_path)"
   ]
  },
  {
   "cell_type": "markdown",
   "id": "1d839ea1-8b40-4372-9ef7-4d94ab58e01a",
   "metadata": {},
   "source": [
    "#### Display data"
   ]
  },
  {
   "cell_type": "code",
   "execution_count": null,
   "id": "c8e78b82-9fb9-4dc9-90b4-e6b546930b7c",
   "metadata": {},
   "outputs": [],
   "source": [
    "df.head()"
   ]
  },
  {
   "cell_type": "code",
   "execution_count": null,
   "id": "a859dabc-d2c1-4a61-957c-f73047d37525",
   "metadata": {},
   "outputs": [],
   "source": [
    "print(f\"Dataset Shape: {df.shape}\")"
   ]
  },
  {
   "cell_type": "code",
   "execution_count": null,
   "id": "3d34e09b-2648-41a6-8fb7-92da68a7632d",
   "metadata": {},
   "outputs": [],
   "source": [
    "df.dtypes"
   ]
  },
  {
   "cell_type": "markdown",
   "id": "586beba6-86cf-41c1-8a4a-80b701f087d0",
   "metadata": {},
   "source": [
    "#### Missing value"
   ]
  },
  {
   "cell_type": "code",
   "execution_count": null,
   "id": "6baa48bb-cdb4-4f56-959d-0ff4605e542f",
   "metadata": {},
   "outputs": [],
   "source": [
    "missingValue = df.isnull().sum()\n",
    "print(\"\\nMissing Values in Each Column:\")\n",
    "print(missingValue[missingValue > 0])"
   ]
  },
  {
   "cell_type": "markdown",
   "id": "f4b96684-415e-4547-8b8d-ad0a8bcf396d",
   "metadata": {},
   "source": [
    "#### Summary of data"
   ]
  },
  {
   "cell_type": "code",
   "execution_count": null,
   "id": "e7f1d3a4-e4b4-4422-ba09-d4d324dfb08c",
   "metadata": {},
   "outputs": [],
   "source": [
    "print(\"Summary Statistics:\")\n",
    "print(df.describe())"
   ]
  },
  {
   "cell_type": "markdown",
   "id": "d58fc71f-89ac-48f8-8621-e5fabeb1c3c6",
   "metadata": {},
   "source": [
    "#### EDA Continued"
   ]
  },
  {
   "cell_type": "markdown",
   "id": "9ee994ca-d35c-4544-9c60-98124aea99d7",
   "metadata": {},
   "source": [
    "Class distribution Healthy vs Unhealthy"
   ]
  },
  {
   "cell_type": "code",
   "execution_count": null,
   "id": "7845cd9a-ea67-42a3-8867-e311366d40ac",
   "metadata": {},
   "outputs": [],
   "source": [
    "plt.figure(figsize=(6, 4))\n",
    "sns.countplot(x=df[\"Health\"], palette=\"coolwarm\")\n",
    "plt.title(\"Distribution of Coral Reef Health (0 = Unhealthy, 1 = Healthy)\")\n",
    "plt.xlabel(\"Health Status\")\n",
    "plt.ylabel(\"Count\")\n",
    "plt.show()\n",
    "\n",
    "# Count of 1s (Healthy) and 0s (Unhealthy) in the Health column\n",
    "num_healthy = df[\"Health\"].value_counts().get(1, 0)\n",
    "num_unhealthy = df[\"Health\"].value_counts().get(0, 0)\n",
    "\n",
    "# Print the results\n",
    "print(f\"Healthy (1): {num_healthy}\")\n",
    "print(f\"Unhealthy (0): {num_unhealthy}\")"
   ]
  },
  {
   "cell_type": "markdown",
   "id": "b6b6c738-c7a0-4fb4-a23d-ded7988605fd",
   "metadata": {},
   "source": [
    "**Correlation Heatmap**"
   ]
  },
  {
   "cell_type": "code",
   "execution_count": null,
   "id": "6fde9a9b-635a-46d0-939c-2e4c754195a5",
   "metadata": {
    "scrolled": true
   },
   "outputs": [],
   "source": [
    "plt.figure(figsize=(15, 10))\n",
    "correlation_matrix = df.corr()\n",
    "sns.heatmap(correlation_matrix, cmap=\"coolwarm\", annot=False, linewidths=0.5)\n",
    "plt.title(\"Correlation Heatmap of All Features\")\n",
    "plt.show()"
   ]
  },
  {
   "cell_type": "markdown",
   "id": "3c500ceb-81cf-4b3d-83f6-5b1d11002741",
   "metadata": {},
   "source": [
    "# Prep Features for Predicting health\n",
    "\n",
    "Remove redundant features"
   ]
  },
  {
   "cell_type": "code",
   "execution_count": null,
   "id": "f02285f2-3017-412d-84b5-a58f91cb3c5d",
   "metadata": {},
   "outputs": [],
   "source": [
    "file_path = r\"File_location\\Merged.xlsx\"\n",
    "df_full = pd.read_excel(file_path)\n",
    "\n",
    "# Step 1: Select only feature columns (F1 to F109)\n",
    "feature_columns = [col for col in df_full.columns if col.startswith(\"F\")]\n",
    "df_features = df_full[feature_columns]\n",
    "\n",
    "#Step 2: Correlation matrix\n",
    "correlation_matrix = df_features.corr()\n",
    "\n",
    "# Step 3: Initialize set to remove features\n",
    "features_to_drop = set()\n",
    "\n",
    "# Step 4: Loop through correlation matrix to remove redundant features\n",
    "for i, feature in enumerate(correlation_matrix.columns):\n",
    "    if feature in features_to_drop:\n",
    "        continue\n",
    "\n",
    "    # Find features with high correlation to the current feature (excluding itself)\n",
    "    correlated_features = correlation_matrix.index[\n",
    "        (correlation_matrix[feature] > 0.9) & (correlation_matrix.index != feature)\n",
    "    ].tolist()\n",
    "\n",
    "    # Exclude already removed features\n",
    "    correlated_features = [f for f in correlated_features if f not in features_to_drop]\n",
    "\n",
    "    if correlated_features:\n",
    "        candidate_group = [feature] + correlated_features\n",
    "        # Choose the feature with the highest average correlation in the group to keep\n",
    "        group_corr = correlation_matrix.loc[candidate_group, candidate_group].mean().sort_values(ascending=False)\n",
    "        keep_feature = group_corr.index[0]\n",
    "\n",
    "        # Mark all others in the group for removal\n",
    "        for f in candidate_group:\n",
    "            if f != keep_feature:\n",
    "                features_to_drop.add(f)\n",
    "\n",
    "#Step 5: Keep only selected features\n",
    "selected_features = [f for f in df_features.columns if f not in features_to_drop]\n",
    "df_filtered = df_full[selected_features + [\"Health\"]]  # Include Health column\n",
    "\n",
    "#Step 6: Save the filtered dataset\n",
    "output_path = r\"Reef_Health_CorrelationFiltered.xlsx\"\n",
    "df_filtered.to_excel(output_path, index=False)\n",
    "\n",
    "#Output summary\n",
    "print(f\"Original features: {len(df_features.columns)}\")\n",
    "print(f\"Selected features: {len(selected_features)}\")\n",
    "print(f\"Removed features: {len(features_to_drop)}\")\n",
    "print(f\"Filtered dataset saved to: {output_path}\")"
   ]
  },
  {
   "cell_type": "code",
   "execution_count": null,
   "id": "8017e00d-0734-42c9-ad57-67314492311d",
   "metadata": {},
   "outputs": [],
   "source": [
    "file_path = r\"Reef_Health_CorrelationFiltered.xlsx\"\n",
    "df_filtered = pd.read_excel(file_path)\n",
    "\n",
    "# Calculate correlation\n",
    "feature_corr = df_filtered.corr()[\"Health\"].drop(\"Health\").abs().sort_values(ascending=False)\n",
    "\n",
    "# Increase figure height for better vertical spacing\n",
    "plt.figure(figsize=(14, 18))  # Increase height from 6 to 18\n",
    "sns.barplot(x=feature_corr.values, y=feature_corr.index, palette=\"coolwarm\")\n",
    "\n",
    "# Customize plot aesthetics\n",
    "plt.title(\"Correlation of Features with Health (Absolute Values)\", fontsize=16)\n",
    "plt.xlabel(\"Absolute Correlation\", fontsize=13)\n",
    "plt.ylabel(\"Feature\", fontsize=13)\n",
    "plt.xticks(fontsize=11)\n",
    "plt.yticks(fontsize=10)\n",
    "plt.tight_layout()\n",
    "plt.show()"
   ]
  },
  {
   "cell_type": "markdown",
   "id": "ed89998d-b358-44df-897a-64339cc87a9a",
   "metadata": {},
   "source": [
    "### End prep"
   ]
  },
  {
   "cell_type": "markdown",
   "id": "19abdc20-6c71-489e-b9a7-d063927507f0",
   "metadata": {},
   "source": [
    "**Top 5 correlated Features**"
   ]
  },
  {
   "cell_type": "code",
   "execution_count": null,
   "id": "56e8c580-e82b-40f3-95ed-0a9d419f6f0f",
   "metadata": {},
   "outputs": [],
   "source": [
    "top_5_features_corr = correlation_matrix[\"Health\"].abs().sort_values(ascending=False).index[1:6] \n",
    "print(\"Top 5 Most Correlated Features with Health:\")\n",
    "print(top_5_features_corr)"
   ]
  },
  {
   "cell_type": "code",
   "execution_count": null,
   "id": "1cdd3242-f42f-4efa-aae9-13da4e9116be",
   "metadata": {
    "scrolled": true
   },
   "outputs": [],
   "source": [
    "plt.figure(figsize=(15, 6))\n",
    "for i, feature in enumerate(top_5_features_corr):\n",
    "    plt.subplot(1, 5, i+1)\n",
    "    sns.boxplot(x=df[\"Health\"], y=df[feature], palette=\"coolwarm\")\n",
    "    plt.title(f\"{feature} vs Health\")\n",
    "plt.tight_layout()\n",
    "plt.show()"
   ]
  },
  {
   "cell_type": "code",
   "execution_count": null,
   "id": "05bbfe10-788a-47bb-a5df-4617d04efc09",
   "metadata": {},
   "outputs": [],
   "source": [
    "Least_20_features_corr = correlation_matrix[\"Health\"].abs().sort_values(ascending=True).index[1:21]  # Exclude \"Health\" itself\n",
    "print(\"Top 20 Least Correlated Features with Health:\")\n",
    "print(Least_20_features_corr)"
   ]
  },
  {
   "cell_type": "code",
   "execution_count": null,
   "id": "8ac48cc6-7ea9-4fd9-86d5-459d7e26e3aa",
   "metadata": {},
   "outputs": [],
   "source": [
    "top_20_features_corr = correlation_matrix[\"Health\"].abs().sort_values(ascending=False).index[1:21]  # Exclude \"Health\" itself\n",
    "print(\"Top 20 Most Correlated Features with Health:\")\n",
    "print(top_20_features_corr)"
   ]
  },
  {
   "cell_type": "code",
   "execution_count": null,
   "id": "6cf99084-2895-45d6-8ce9-5f2dfbf7e66d",
   "metadata": {
    "scrolled": true
   },
   "outputs": [],
   "source": [
    "plt.figure(figsize=(50, 40))\n",
    "for i, feature in enumerate(top_20_features_corr):\n",
    "    plt.subplot(1, 21, i+1)\n",
    "    sns.boxplot(x=df[\"Health\"], y=df[feature], palette=\"coolwarm\")\n",
    "    plt.title(f\"{feature} vs Health\")\n",
    "plt.tight_layout()\n",
    "plt.show()"
   ]
  },
  {
   "cell_type": "code",
   "execution_count": null,
   "id": "dbc66295-c557-4fcc-ab95-2c5f48451f33",
   "metadata": {
    "scrolled": true
   },
   "outputs": [],
   "source": [
    "df[top_5_features_corr].hist(bins=30, figsize=(12, 8), color=\"skyblue\", edgecolor=\"black\")\n",
    "plt.suptitle(\"Histograms of Top 5 Correlated Features\", fontsize=16)\n",
    "plt.show()"
   ]
  },
  {
   "cell_type": "code",
   "execution_count": null,
   "id": "038bb6a2-5108-43b6-9ec1-88b54815cdee",
   "metadata": {
    "scrolled": true
   },
   "outputs": [],
   "source": [
    "pairplot_df = df[top_5_features_corr.to_list() + [\"Health\"]].select_dtypes(include=[np.number]).dropna()\n",
    "\n",
    "sns.pairplot(pairplot_df, hue=\"Health\", palette=\"coolwarm\", diag_kind=\"kde\")\n",
    "plt.suptitle(\"Pairplot of Top Features vs Health\", y=1.02)\n",
    "plt.show()"
   ]
  },
  {
   "cell_type": "markdown",
   "id": "0c764295-60d1-4e23-a4ce-ffefcf7e6f85",
   "metadata": {},
   "source": [
    "## Top 5 features based on Random forest"
   ]
  },
  {
   "cell_type": "markdown",
   "id": "c7dba233-69e9-4563-8ddf-27e8fddb44a9",
   "metadata": {},
   "source": [
    "#### Random Forest Classifiers to measure feature importance"
   ]
  },
  {
   "cell_type": "code",
   "execution_count": null,
   "id": "54ce278b-7e2e-44a4-b543-6a5502dd474e",
   "metadata": {},
   "outputs": [],
   "source": [
    "import pandas as pd\n",
    "import numpy as np\n",
    "import matplotlib.pyplot as plt\n",
    "import seaborn as sns\n",
    "from sklearn.ensemble import RandomForestClassifier\n",
    "from sklearn.model_selection import train_test_split\n",
    "from sklearn.preprocessing import StandardScaler"
   ]
  },
  {
   "cell_type": "code",
   "execution_count": null,
   "id": "42c0f7a5-3f19-4f87-b956-98112e0b2127",
   "metadata": {
    "scrolled": true
   },
   "outputs": [],
   "source": [
    "# Prepare Data for Feature Importance Analysis\n",
    "X = df.drop(columns=[\"Health\"])  # All features except target\n",
    "y = df[\"Health\"]  # Target variable\n",
    "\n",
    "# Train-Test Split\n",
    "X_train, X_test, y_train, y_test = train_test_split(X, y, test_size=0.2, random_state=42)\n",
    "\n",
    "# Train a Random Forest Classifier\n",
    "rf_model = RandomForestClassifier(n_estimators=100, random_state=42)\n",
    "rf_model.fit(X_train, y_train)\n",
    "\n",
    "# Get Feature Importances\n",
    "feature_importances = pd.DataFrame({\n",
    "    \"Feature\": X.columns,\n",
    "    \"Importance\": rf_model.feature_importances_\n",
    "}).sort_values(by=\"Importance\", ascending=False)\n",
    "\n",
    "# Plot Top 20 Important Features\n",
    "plt.figure(figsize=(12, 6))\n",
    "sns.barplot(x=\"Importance\", y=\"Feature\", data=feature_importances[:20], palette=\"coolwarm\")\n",
    "plt.title(\"Top 20 Most Important Features for Coral Reef Health\")\n",
    "plt.xlabel(\"Feature Importance Score\")\n",
    "plt.ylabel(\"Feature\")\n",
    "plt.show()\n",
    "\n",
    "# Print top 20 important features\n",
    "print(\"\\nTop 20 Most Important Features:\")\n",
    "print(feature_importances[:20])\n",
    "print(feature_importances)"
   ]
  },
  {
   "cell_type": "code",
   "execution_count": null,
   "id": "66541772-871f-41e4-a801-3ac4ce36f0fa",
   "metadata": {},
   "outputs": [],
   "source": [
    "# Load the filtered feature list (86 features retained after correlation filtering)\n",
    "filtered_path = r\"Reef_Health_CorrelationFiltered.xlsx\"\n",
    "df_filtered_86features = pd.read_excel(filtered_path)\n",
    "\n",
    "# Extract the retained feature names (exclude 'Health')\n",
    "filtered_features = [col for col in df_filtered_86features.columns if col != \"Health\"]\n",
    "\n",
    "# Filter the original importance scores to keep only the retained features\n",
    "filtered_importances = feature_importances[feature_importances[\"Feature\"].isin(filtered_features)]\n",
    "\n",
    "# Sort again for clarity\n",
    "filtered_importances = filtered_importances.sort_values(by=\"Importance\", ascending=False)\n",
    "\n",
    "# Display the top few\n",
    "print(filtered_importances.head())\n",
    "\n",
    "# Optional: Save to Excel\n",
    "filtered_importances.to_excel(r\"Feature_Importances_Filtered.xlsx\", index=False)"
   ]
  },
  {
   "cell_type": "code",
   "execution_count": null,
   "id": "16036870-04a2-4d00-be19-9a89ab638bcb",
   "metadata": {
    "scrolled": true
   },
   "outputs": [],
   "source": [
    "# Plot all 86 features by importance\n",
    "plt.figure(figsize=(14, 20))  # Increase height for better visibility\n",
    "sns.barplot(x=\"Importance\", y=\"Feature\", data=filtered_importances, palette=\"coolwarm\")\n",
    "\n",
    "# Chart labels and title\n",
    "plt.title(\"Feature Importances of 86 Filtered Features (Random Forest)\", fontsize=16)\n",
    "plt.xlabel(\"Importance Score\", fontsize=13)\n",
    "plt.ylabel(\"Feature\", fontsize=13)\n",
    "plt.xticks(fontsize=11)\n",
    "plt.yticks(fontsize=10)\n",
    "plt.tight_layout()\n",
    "plt.show()"
   ]
  },
  {
   "cell_type": "code",
   "execution_count": null,
   "id": "fa23ba39-9d7c-427b-89c8-5d819731e4d3",
   "metadata": {
    "scrolled": true
   },
   "outputs": [],
   "source": [
    "print(feature_importances)\n",
    "\n",
    "# Plot Top 20 Important Features\n",
    "plt.figure(figsize=(12, 6))\n",
    "sns.barplot(x=\"Importance\", y=\"Feature\", data=feature_importances, palette=\"coolwarm\")\n",
    "plt.title(\"Top 20 Most Important Features for Coral Reef Health\")\n",
    "plt.xlabel(\"Feature Importance Score\")\n",
    "plt.ylabel(\"Feature\")\n",
    "plt.show()"
   ]
  },
  {
   "cell_type": "code",
   "execution_count": null,
   "id": "1dc6834e-7c6b-4aa4-a217-a7100bfaa8d4",
   "metadata": {
    "scrolled": true
   },
   "outputs": [],
   "source": [
    "# Plot Top 50 Important Features\n",
    "plt.figure(figsize=(18, 20))\n",
    "sns.barplot(x=\"Importance\", y=\"Feature\", data=feature_importances[:50], palette=\"coolwarm\")\n",
    "plt.title(\"Top 50 Most Important Features for Coral Reef Health\")\n",
    "plt.xlabel(\"Feature Importance Score\")\n",
    "plt.ylabel(\"Feature\")\n",
    "plt.show()\n",
    "\n",
    "# Print top 50 important features\n",
    "print(\"\\nTop 50 Most Important Features:\")\n",
    "print(feature_importances[:50])"
   ]
  },
  {
   "cell_type": "code",
   "execution_count": null,
   "id": "43f52664-3767-4e17-984f-fd18a00d8290",
   "metadata": {},
   "outputs": [],
   "source": [
    "top_5_features_forest = feature_importances[\"Feature\"][:5]\n",
    "\n",
    "# Plot Violin Plots\n",
    "plt.figure(figsize=(15, 6))\n",
    "for i, feature in enumerate(top_5_features_forest):\n",
    "    plt.subplot(1, 5, i+1)\n",
    "    sns.violinplot(x=df[\"Health\"], y=df[feature], palette=\"coolwarm\")\n",
    "    plt.title(f\"{feature} vs Health\")\n",
    "plt.tight_layout()\n",
    "plt.show()"
   ]
  },
  {
   "cell_type": "code",
   "execution_count": null,
   "id": "d606405e-977b-408a-a7c2-dcf1b1568e24",
   "metadata": {
    "scrolled": true
   },
   "outputs": [],
   "source": [
    "plt.figure(figsize=(15, 6))\n",
    "for i, feature in enumerate(top_5_features_forest):\n",
    "    plt.subplot(1, 5, i+1)\n",
    "    sns.swarmplot(x=df[\"Health\"], y=df[feature], palette=\"coolwarm\", size=3)\n",
    "    plt.title(f\"{feature} vs Health\")\n",
    "plt.tight_layout()\n",
    "plt.show()"
   ]
  },
  {
   "cell_type": "code",
   "execution_count": null,
   "id": "2cacc614-8ed0-4af9-a242-e0e0bb1ef7d4",
   "metadata": {
    "scrolled": true
   },
   "outputs": [],
   "source": [
    "from pandas.plotting import scatter_matrix\n",
    "\n",
    "# Select top 5 features\n",
    "top_features_forest = list(feature_importances[\"Feature\"][:5])\n",
    "\n",
    "# Plot scatter matrix\n",
    "scatter_matrix(df[top_features_forest + [\"Health\"]], figsize=(12, 12), alpha=0.75, diagonal=\"kde\")\n",
    "plt.suptitle(\"Scatter Matrix of Top Features\", fontsize=16)\n",
    "plt.show()\n"
   ]
  },
  {
   "cell_type": "markdown",
   "id": "88756c35-5708-41ef-a5f8-d9a560c5a4fd",
   "metadata": {},
   "source": [
    "**We shall keep the top 20 features only**"
   ]
  },
  {
   "cell_type": "code",
   "execution_count": null,
   "id": "df1d65ff-d96e-4cf3-8135-e7ff51dae750",
   "metadata": {},
   "outputs": [],
   "source": [
    "# Select only the top 20 important features + Health column\n",
    "top_20_features = [\n",
    "    \"F55\", \"F39\", \"F1\", \"F52\", \"F34\", \"F9\", \"F71\", \"F14\", \"F35\", \"F70\",\n",
    "    \"F16\", \"F33\", \"F2\", \"F36\", \"F4\", \"F37\", \"F38\", \"F17\", \"F42\", \"F46\"\n",
    "]\n",
    "df_top20 = df[top_20_features + [\"Health\"]]  # Keep target column\n",
    "\n",
    "# Save the cleaned dataset\n",
    "df_top20.to_excel(r\"Reef_Health_Top20.xlsx\", index=False)\n",
    "\n",
    "print(\"Dataset updated! Kept only the Top 20 features.\")\n"
   ]
  },
  {
   "cell_type": "code",
   "execution_count": null,
   "id": "9c369b07-8367-4e30-8673-62f4fb3b297e",
   "metadata": {
    "scrolled": true
   },
   "outputs": [],
   "source": [
    "# Plot boxplots for all top 20 features\n",
    "plt.figure(figsize=(15, 10))\n",
    "df_top20.boxplot(rot=90)\n",
    "plt.title(\"Boxplots of Top 20 Features (Outlier Detection)\")\n",
    "plt.show()"
   ]
  },
  {
   "cell_type": "markdown",
   "id": "6a8d8ae0-24ee-4681-a222-0b85b366b648",
   "metadata": {},
   "source": [
    "We would need to further normalize the features especially given the range of values F16 and F17 take."
   ]
  },
  {
   "cell_type": "code",
   "execution_count": null,
   "id": "08e99315-cd4e-47dc-a0b7-169caa86353d",
   "metadata": {},
   "outputs": [],
   "source": [
    "from sklearn.preprocessing import StandardScaler\n",
    "features_to_scale = df_top20.columns[:-1]  # Exclude \"Health\" column\n",
    "scaler = StandardScaler()\n",
    "df_top20[features_to_scale] = scaler.fit_transform(df_top20[features_to_scale])\n",
    "# Save the standardized dataset\n",
    "df_top20.to_excel(r\"Reef_Health_Top20_Standardized.xlsx\", index=False)\n",
    "print(\"Standardization (Z-score) applied! Dataset saved.\")"
   ]
  },
  {
   "cell_type": "code",
   "execution_count": null,
   "id": "18f82385-9d00-42c9-9b77-00377f93949a",
   "metadata": {
    "scrolled": true
   },
   "outputs": [],
   "source": [
    "plt.figure(figsize=(15, 10))\n",
    "df_top20.boxplot(rot=90)\n",
    "plt.title(\"Boxplots of Standardized Top 20 Features (After Cleaning)\")\n",
    "plt.show()\n"
   ]
  },
  {
   "cell_type": "code",
   "execution_count": null,
   "id": "9e15ba8f-b5dc-4352-8273-cf7aaca53461",
   "metadata": {
    "scrolled": true
   },
   "outputs": [],
   "source": [
    "plt.figure(figsize=(12, 8))\n",
    "sns.heatmap(df_top20.corr(), cmap=\"coolwarm\", annot=False, linewidths=0.5)\n",
    "plt.title(\"Correlation Heatmap of Standardized Top 20 Features\")\n",
    "plt.show()"
   ]
  },
  {
   "cell_type": "code",
   "execution_count": null,
   "id": "34f10cb9-b866-4067-87ef-656b435d88f3",
   "metadata": {},
   "outputs": [],
   "source": [
    "plt.figure(figsize=(15, 6))\n",
    "for i, feature in enumerate(df_top20.columns[:-1][:5]):  # Select 5 features\n",
    "    plt.subplot(1, 5, i+1)\n",
    "    sns.violinplot(x=df_top20[\"Health\"], y=df_top20[feature], palette=\"coolwarm\")\n",
    "    plt.title(f\"{feature} vs Health\")\n",
    "plt.tight_layout()\n",
    "plt.show()"
   ]
  },
  {
   "cell_type": "code",
   "execution_count": null,
   "id": "82503112-b52f-496d-b163-cae6a78a8f3b",
   "metadata": {},
   "outputs": [],
   "source": [
    "plt.figure(figsize=(15, 6))\n",
    "for i, feature in enumerate(df_top20.columns[:-1][:5]):\n",
    "    plt.subplot(1, 5, i+1)\n",
    "    sns.swarmplot(x=df_top20[\"Health\"], y=df_top20[feature], palette=\"coolwarm\", size=3)\n",
    "    plt.title(f\"{feature} vs Health\")\n",
    "plt.tight_layout()\n",
    "plt.show()"
   ]
  },
  {
   "cell_type": "code",
   "execution_count": null,
   "id": "ec27f377-d66d-49b0-9e46-de858e4a346a",
   "metadata": {
    "scrolled": true
   },
   "outputs": [],
   "source": [
    "scatter_matrix(df_top20[df_top20.columns[:-1][:5]], figsize=(12, 12), alpha=0.75, diagonal=\"kde\")\n",
    "plt.suptitle(\"Scatter Matrix of Standardized Top Features\", fontsize=16)\n",
    "plt.show()"
   ]
  },
  {
   "cell_type": "code",
   "execution_count": null,
   "id": "e9f1e05b-2d35-415d-8acf-2c697449aacd",
   "metadata": {},
   "outputs": [],
   "source": []
  },
  {
   "cell_type": "code",
   "execution_count": null,
   "id": "5a288900-bebf-4393-9e46-6c943bfd5f85",
   "metadata": {
    "scrolled": true
   },
   "outputs": [],
   "source": [
    "# Filter for only numeric data and drop missing values\n",
    "pairplot_df = df[[\"F38\", \"F1\", \"Health\"]].select_dtypes(include=[np.number]).dropna()\n",
    "\n",
    "# Separate healthy and unhealthy data\n",
    "healthy_df = pairplot_df[pairplot_df[\"Health\"] == 1]\n",
    "unhealthy_df = pairplot_df[pairplot_df[\"Health\"] == 0]\n",
    "\n",
    "# Plot for healthy reef\n",
    "sns.pairplot(healthy_df.drop(columns=[\"Health\"]), palette=\"coolwarm\", diag_kind=\"kde\")\n",
    "plt.suptitle(\"Pairplot of F38 and F1 (Healthy reef)\", y=1.02)\n",
    "plt.show()\n",
    "\n",
    "# Plot for unhealthy reef\n",
    "sns.pairplot(unhealthy_df.drop(columns=[\"Health\"]), palette=\"coolwarm\", diag_kind=\"kde\")\n",
    "plt.suptitle(\"Pairplot of F38 and F1 (Unhealthy reef)\", y=1.02)\n",
    "plt.show()"
   ]
  },
  {
   "cell_type": "code",
   "execution_count": null,
   "id": "b9d34e5d-0d97-4c5c-acff-f329769750ca",
   "metadata": {
    "scrolled": true
   },
   "outputs": [],
   "source": [
    "# Filter for only numeric data and drop missing values\n",
    "pairplot_df = df[[\"F37\", \"F1\", \"Health\"]].select_dtypes(include=[np.number]).dropna()\n",
    "\n",
    "# Separate healthy and unhealthy data\n",
    "healthy_df = pairplot_df[pairplot_df[\"Health\"] == 1]\n",
    "unhealthy_df = pairplot_df[pairplot_df[\"Health\"] == 0]\n",
    "\n",
    "# Plot for healthy reef\n",
    "sns.pairplot(healthy_df.drop(columns=[\"Health\"]), palette=\"coolwarm\", diag_kind=\"kde\")\n",
    "plt.suptitle(\"Pairplot of F37 and F1 (Healthy reef)\", y=1.02)\n",
    "plt.show()\n",
    "\n",
    "# Plot for unhealthy reef\n",
    "sns.pairplot(unhealthy_df.drop(columns=[\"Health\"]), palette=\"coolwarm\", diag_kind=\"kde\")\n",
    "plt.suptitle(\"Pairplot of F37 and F1 (Unhealthy reef)\", y=1.02)\n",
    "plt.show()"
   ]
  },
  {
   "cell_type": "markdown",
   "id": "c8386321-be6a-4c78-9d11-4dfa34d6db26",
   "metadata": {},
   "source": [
    "### Next Steps"
   ]
  },
  {
   "cell_type": "code",
   "execution_count": null,
   "id": "eb8abb2f-0499-4e2a-993a-200437cf00b6",
   "metadata": {},
   "outputs": [],
   "source": [
    "top_20_features_corr = correlation_matrix[\"Health\"].abs().sort_values(ascending=False).index[1:21]  # Exclude \"Health\" itself\n",
    "print(\"Top 20 Most Correlated Features with Health:\")\n",
    "print(top_20_features_corr)"
   ]
  },
  {
   "cell_type": "code",
   "execution_count": null,
   "id": "2a8c4b23-b7ba-4ddb-9b6c-d60e1964e601",
   "metadata": {},
   "outputs": [],
   "source": [
    "# Print top 20 important features\n",
    "print(\"\\nTop 20 Most Important Features:\")\n",
    "print(feature_importances[:20])"
   ]
  },
  {
   "cell_type": "code",
   "execution_count": null,
   "id": "e56a6a44-2d93-48a7-bf2b-bfc5f30177e5",
   "metadata": {},
   "outputs": [],
   "source": [
    "# Convert lists to sets for easy set operations\n",
    "top_50_corr_set = set(top_50_features_corr)\n",
    "top_50_importance_set = set(feature_importances[:50])\n",
    "\n",
    "# Compute intersection (common elements in both lists)\n",
    "intersection_features = top_50_corr_set.intersection(top_50_importance_set)\n",
    "\n",
    "# Compute union (all unique elements from both lists)\n",
    "union_features = top_50_corr_set.union(top_50_importance_set)\n",
    "\n",
    "# Print results\n",
    "print(f\"Intersection (Features in both lists): {sorted(intersection_features)}\")\n",
    "print(f\"Union (All unique features across both lists): {sorted(union_features)}\")\n"
   ]
  },
  {
   "cell_type": "code",
   "execution_count": null,
   "id": "2cf49d6e-4cd5-4d6e-bf3a-3471d4ae2484",
   "metadata": {},
   "outputs": [],
   "source": []
  },
  {
   "cell_type": "markdown",
   "id": "7a0b300e-3ca5-4f30-b275-f055844c4eb5",
   "metadata": {},
   "source": [
    "## Plotting F37 and F38 against Rugosity"
   ]
  },
  {
   "cell_type": "code",
   "execution_count": null,
   "id": "531cc3b6-5405-4d62-aba4-abd4e2cb74ec",
   "metadata": {},
   "outputs": [],
   "source": [
    "import pandas as pd\n",
    "import os\n",
    "\n",
    "# Define file paths\n",
    "input_file_path = r\"Reef_Health_Data_Merged_UNEDITED.xlsx\"\n",
    "output_folder = r\"Excel_Rugosity\"\n",
    "output_file_path = os.path.join(output_folder, \"Reef_Health_Data_Filtered.xlsx\")\n",
    "\n",
    "# Ensure the output folder exists\n",
    "os.makedirs(output_folder, exist_ok=True)\n",
    "\n",
    "# Load the Excel file\n",
    "xls = pd.ExcelFile(input_file_path)\n",
    "\n",
    "# Dictionary to store modified sheets\n",
    "sheets_dict = {}\n",
    "\n",
    "# Columns to keep\n",
    "columns_to_keep = [\"F37\", \"F38\", \"Health\", \"Country\", \"Site\", \"Rugosity\"]\n",
    "\n",
    "# Loop through each sheet in the Excel file\n",
    "for sheet_name in xls.sheet_names:\n",
    "    df = pd.read_excel(input_file_path, sheet_name=sheet_name)\n",
    "\n",
    "    # Keep only the specified columns (ignore missing ones)\n",
    "    df_filtered = df[[col for col in columns_to_keep if col in df.columns]]\n",
    "\n",
    "    # Store the updated sheet\n",
    "    sheets_dict[sheet_name] = df_filtered\n",
    "\n",
    "# Save the filtered data to a new Excel file\n",
    "with pd.ExcelWriter(output_file_path, engine=\"openpyxl\") as writer:\n",
    "    for sheet, df in sheets_dict.items():\n",
    "        df.to_excel(writer, sheet_name=sheet, index=False)\n",
    "\n",
    "print(f\"Filtered file saved successfully at: {output_file_path}\")\n"
   ]
  },
  {
   "cell_type": "code",
   "execution_count": null,
   "id": "85a533b5-0d57-4681-b73c-55f2b4f36abc",
   "metadata": {},
   "outputs": [],
   "source": [
    "file_path = r\"Reef_Health_Data_Filtered.xlsx\"\n",
    "df = pd.read_excel(file_path)"
   ]
  },
  {
   "cell_type": "code",
   "execution_count": null,
   "id": "cef30197-d389-46ef-80ec-b79dee3fcf0b",
   "metadata": {},
   "outputs": [],
   "source": [
    "df.head()"
   ]
  },
  {
   "cell_type": "code",
   "execution_count": null,
   "id": "7dd05e13-3085-41c1-b368-0cfb915495a8",
   "metadata": {},
   "outputs": [],
   "source": [
    "print(f\"Dataset Shape: {df.shape}\")"
   ]
  },
  {
   "cell_type": "code",
   "execution_count": null,
   "id": "aa827850-a183-4bd4-a1fc-fb3c11d232d2",
   "metadata": {},
   "outputs": [],
   "source": [
    "df.dtypes"
   ]
  },
  {
   "cell_type": "code",
   "execution_count": null,
   "id": "de2cf1a7-87b2-44cc-8d6b-e610ddbafdfa",
   "metadata": {},
   "outputs": [],
   "source": [
    "missingValue = df.isnull().sum()\n",
    "print(\"Missing Values in Each Column:\")\n",
    "print(missingValue[missingValue > 0])"
   ]
  },
  {
   "cell_type": "code",
   "execution_count": null,
   "id": "61565c48-278a-4224-95c7-cd4c694078a8",
   "metadata": {},
   "outputs": [],
   "source": [
    "print(\"Summary Stats\")\n",
    "print(df.describe())"
   ]
  },
  {
   "cell_type": "code",
   "execution_count": null,
   "id": "eccfffb1-044f-43cd-a6f1-09ceb677da5d",
   "metadata": {},
   "outputs": [],
   "source": []
  },
  {
   "cell_type": "markdown",
   "id": "c3bd7982-5a4f-4e5f-9a9c-bce2fd8bef02",
   "metadata": {},
   "source": [
    "#### All, colour coded by country\n",
    "\n",
    "Spearmars corr"
   ]
  },
  {
   "cell_type": "code",
   "execution_count": null,
   "id": "a7f8c3bb-f284-413d-bd85-e7f9db4294bf",
   "metadata": {
    "scrolled": true
   },
   "outputs": [],
   "source": [
    "import pandas as pd\n",
    "import matplotlib.pyplot as plt\n",
    "\n",
    "# Load the updated Excel file\n",
    "file_path = r\"Reef_Health_Data_Filtered.xlsx\"\n",
    "df = pd.read_excel(file_path)\n",
    "\n",
    "# Define colors for each country\n",
    "country_colors = {\"PH\": \"blue\", \"TH\": \"green\", \"SG\": \"red\", \"MA\": \"purple\"}\n",
    "\n",
    "# Function to plot scatter plots\n",
    "def plot_scatter(x_col, y_col, title):\n",
    "    plt.figure(figsize=(15, 15))\n",
    "    for country, color in country_colors.items():\n",
    "        subset = df[df[\"Country\"] == country]\n",
    "        plt.scatter(subset[x_col], subset[y_col], color=color, label=country, alpha=0.7, edgecolors=\"black\")\n",
    "    \n",
    "    plt.xlabel(x_col)\n",
    "    plt.ylabel(y_col)\n",
    "    plt.title(title)\n",
    "    plt.legend(title=\"Country\")\n",
    "    plt.grid(True)\n",
    "    plt.show()\n",
    "\n",
    "# Plot F37 vs Rugosity\n",
    "plot_scatter(\"F37\", \"Rugosity\", \"F37 vs Rugosity (Color-coded by Country)\")\n",
    "\n",
    "# Plot F38 vs Rugosity\n",
    "plot_scatter(\"F38\", \"Rugosity\", \"F38 vs Rugosity (Color-coded by Country)\")\n"
   ]
  },
  {
   "cell_type": "markdown",
   "id": "3e2ee3bd-e326-462a-8e30-9c328620a7df",
   "metadata": {},
   "source": [
    "Spearman rank corr"
   ]
  },
  {
   "cell_type": "code",
   "execution_count": null,
   "id": "f5584044-8567-45ab-a3ee-0bc2b865319c",
   "metadata": {},
   "outputs": [],
   "source": [
    "from scipy.stats import spearmanr\n",
    "import pandas as pd\n",
    "\n",
    "# Load the updated Excel file\n",
    "file_path = r\"Reef_Health_Data_Filtered.xlsx\"\n",
    "df = pd.read_excel(file_path)\n",
    "\n",
    "# Calculate Spearman’s Rank Correlation for F37 vs Rugosity\n",
    "spearman_f37, p_value_f37 = spearmanr(df[\"F37\"], df[\"Rugosity\"])\n",
    "\n",
    "# Calculate Spearman’s Rank Correlation for F38 vs Rugosity\n",
    "spearman_f38, p_value_f38 = spearmanr(df[\"F38\"], df[\"Rugosity\"])\n",
    "\n",
    "# Display results\n",
    "spearman_results = pd.DataFrame({\n",
    "    \"Feature\": [\"F37\", \"F38\"],\n",
    "    \"Spearman Correlation\": [spearman_f37, spearman_f38],\n",
    "    \"P-Value\": [p_value_f37, p_value_f38]\n",
    "})\n",
    "\n",
    "print(spearman_results)\n"
   ]
  },
  {
   "cell_type": "code",
   "execution_count": null,
   "id": "80678435-6eda-4422-a9d9-7cc422f97c2d",
   "metadata": {},
   "outputs": [],
   "source": []
  },
  {
   "cell_type": "markdown",
   "id": "ad2b9bbd-b218-46f2-8582-efd70dfecfc7",
   "metadata": {},
   "source": [
    "#### Countries, each colour coded by site"
   ]
  },
  {
   "cell_type": "markdown",
   "id": "274b6fb6-73c1-4de4-8593-65c333fc2a48",
   "metadata": {},
   "source": [
    "**F37 vs Rugosity**"
   ]
  },
  {
   "cell_type": "code",
   "execution_count": null,
   "id": "62c2649f-c205-4256-bf67-1af387302e07",
   "metadata": {
    "scrolled": true
   },
   "outputs": [],
   "source": [
    "import matplotlib.pyplot as plt\n",
    "\n",
    "country_sites = {country: df[df[\"Country\"] == country][\"Site\"].unique() for country in df[\"Country\"].unique()}\n",
    "\n",
    "# Define the figure and axes for a 2x2 grid layout\n",
    "fig, axes = plt.subplots(2, 2, figsize=(15, 15))  # 2 rows, 2 columns, larger figure\n",
    "\n",
    "# Country list for iteration\n",
    "countries = [\"PH\", \"TH\", \"SG\", \"MA\"]\n",
    "\n",
    "# Iterate through each country and assign a subplot\n",
    "for ax, country in zip(axes.flatten(), countries):\n",
    "    country_df = df[df[\"Country\"] == country]\n",
    "    \n",
    "    # Get only the sites relevant to the country\n",
    "    relevant_sites = country_sites[country]\n",
    "    site_colors_filtered = {site: plt.cm.tab10(i % 10) for i, site in enumerate(relevant_sites)}\n",
    "\n",
    "    for site, color in site_colors_filtered.items():\n",
    "        subset = country_df[country_df[\"Site\"] == site]\n",
    "        ax.scatter(subset[\"F37\"], subset[\"Rugosity\"], color=color, label=site, alpha=0.7, edgecolors=\"black\")\n",
    "\n",
    "    ax.set_xlabel(\"F37\")\n",
    "    ax.set_ylabel(\"Rugosity\")\n",
    "    ax.set_title(f\"F37 vs Rugosity ({country})\")\n",
    "    ax.legend(title=\"Site\", bbox_to_anchor=(1.05, 1), loc=\"upper left\")\n",
    "    ax.grid(True)\n",
    "\n",
    "# Adjust layout to prevent overlap\n",
    "plt.tight_layout()\n",
    "plt.show()\n"
   ]
  },
  {
   "cell_type": "markdown",
   "id": "98338d79-dda5-4890-a975-7c03533cdcc3",
   "metadata": {},
   "source": [
    "**F38 VS Rugosity**"
   ]
  },
  {
   "cell_type": "code",
   "execution_count": null,
   "id": "8df5b23f-a1b5-4a3a-a8f2-df01d0b097d7",
   "metadata": {
    "scrolled": true
   },
   "outputs": [],
   "source": [
    "import matplotlib.pyplot as plt\n",
    "\n",
    "# Define the figure and axes for a 2x2 grid layout\n",
    "fig, axes = plt.subplots(2, 2, figsize=(15, 15))  # 2 rows, 2 columns, larger figure\n",
    "\n",
    "# Country list for iteration\n",
    "countries = [\"PH\", \"TH\", \"SG\", \"MA\"]\n",
    "\n",
    "# Iterate through each country and assign a subplot\n",
    "for ax, country in zip(axes.flatten(), countries):\n",
    "    country_df = df[df[\"Country\"] == country]\n",
    "    \n",
    "    # Get only the sites relevant to the country\n",
    "    relevant_sites = country_sites[country]\n",
    "    site_colors_filtered = {site: plt.cm.tab10(i % 10) for i, site in enumerate(relevant_sites)}\n",
    "\n",
    "    for site, color in site_colors_filtered.items():\n",
    "        subset = country_df[country_df[\"Site\"] == site]\n",
    "        ax.scatter(subset[\"F38\"], subset[\"Rugosity\"], color=color, label=site, alpha=0.7, edgecolors=\"black\")\n",
    "\n",
    "    ax.set_xlabel(\"F38\")\n",
    "    ax.set_ylabel(\"Rugosity\")\n",
    "    ax.set_title(f\"F38 vs Rugosity ({country})\")\n",
    "    ax.legend(title=\"Site\", bbox_to_anchor=(1.05, 1), loc=\"upper left\")\n",
    "    ax.grid(True)\n",
    "\n",
    "# Adjust layout to prevent overlap\n",
    "plt.tight_layout()\n",
    "plt.show()\n"
   ]
  },
  {
   "cell_type": "code",
   "execution_count": null,
   "id": "f253b917-cab4-4ec5-8c42-5297c6913510",
   "metadata": {},
   "outputs": [],
   "source": [
    "from plotnine import ggplot, aes, geom_point, facet_wrap, labs, theme, theme_minimal\n",
    "\n",
    "# Load the data\n",
    "file_path = r\"Reef_Health_Data_Filtered.xlsx\"\n",
    "df = pd.read_excel(file_path)\n",
    "\n",
    "# Scatter plot using ggplot (F37 vs Rugosity, color-coded by Site)\n",
    "plot = (\n",
    "    ggplot(df, aes(x=\"F37\", y=\"Rugosity\", color=\"Site\"))  # Set aesthetics\n",
    "    + geom_point(alpha=0.7)  # Add scatter points with transparency\n",
    "    + facet_wrap(\"~Country\")  # Create separate graphs for each country\n",
    "    + labs(title=\"F37 vs Rugosity (Faceted by Country)\", x=\"F37\", y=\"Rugosity\")\n",
    "    + theme_minimal()  # Use a clean theme\n",
    ")\n",
    "\n",
    "plot.draw()\n"
   ]
  },
  {
   "cell_type": "code",
   "execution_count": null,
   "id": "40b7e890-6493-4dd6-badc-f213b62c2aed",
   "metadata": {},
   "outputs": [],
   "source": [
    "plot = (\n",
    "    ggplot(df, aes(x=\"F37\", y=\"Rugosity\", color=\"Site\"))\n",
    "    + geom_point(alpha=0.7)\n",
    "    + facet_wrap(\"~Country\")\n",
    "    + labs(title=\"F37 vs Rugosity (Faceted by Country)\", x=\"F37\", y=\"Rugosity\")\n",
    "    + theme(figure_size=(14, 8))  # Increased width and height\n",
    ")\n",
    "\n",
    "plot.draw()\n"
   ]
  },
  {
   "cell_type": "code",
   "execution_count": null,
   "id": "6d013186-9d46-45ec-ba23-bed55ab062da",
   "metadata": {},
   "outputs": [],
   "source": [
    "plot = (\n",
    "    ggplot(df, aes(x=\"F38\", y=\"Rugosity\", color=\"Site\"))\n",
    "    + geom_point(alpha=0.7)\n",
    "    + facet_wrap(\"~Country\")\n",
    "    + labs(title=\"F38 vs Rugosity (Faceted by Country)\", x=\"F38\", y=\"Rugosity\")\n",
    "    + theme(figure_size=(14, 8))  # Increased width and height\n",
    ")\n",
    "\n",
    "plot.draw()\n"
   ]
  },
  {
   "cell_type": "markdown",
   "id": "631e5d56-24cd-478c-8491-d3b78ab20513",
   "metadata": {},
   "source": [
    "#### F37\n"
   ]
  },
  {
   "cell_type": "code",
   "execution_count": null,
   "id": "dec0e05a-05b4-4af4-b65c-91f0abd80de7",
   "metadata": {},
   "outputs": [],
   "source": [
    "import seaborn as sns\n",
    "\n",
    "# Inside your for-loop (after ax.scatter...), add:\n",
    "sns.regplot(\n",
    "    data=country_df,\n",
    "    x=\"F37\", y=\"Rugosity\",\n",
    "    scatter=False,\n",
    "    ax=ax,\n",
    "    line_kws={\"color\": \"red\", \"label\": \"Trend\"},\n",
    "    lowess=True  # Use locally weighted smoothing for non-linearity\n",
    ")\n"
   ]
  },
  {
   "cell_type": "code",
   "execution_count": null,
   "id": "9b6283ff-d81a-4386-b40d-62b03c989d83",
   "metadata": {},
   "outputs": [],
   "source": [
    "df[\"F37_category\"] = pd.cut(df[\"F37\"], bins=[0, 1.5, 3.0, df[\"F37\"].max()], labels=[\"Low\", \"Medium\", \"High\"])\n",
    "\n",
    "sns.boxplot(x=\"F37_category\", y=\"Rugosity\", data=df)\n",
    "plt.title(\"Rugosity vs F37 Entropy Level\")\n",
    "plt.xlabel(\"F37 Category (Entropy of Green)\")\n",
    "plt.ylabel(\"Rugosity\")\n",
    "plt.show()\n"
   ]
  },
  {
   "cell_type": "code",
   "execution_count": null,
   "id": "9c3528ab-19ed-4f84-97e5-1bf9d89e8999",
   "metadata": {},
   "outputs": [],
   "source": [
    "sns.jointplot(data=df, x=\"F37\", y=\"Rugosity\", kind=\"hex\", cmap=\"Greens\")\n",
    "plt.suptitle(\"F37 (Green Entropy) vs Rugosity Density\", y=1.02)\n",
    "plt.show()\n"
   ]
  },
  {
   "cell_type": "code",
   "execution_count": null,
   "id": "f50cb2dd-b9ff-4b2e-bf0d-494bc310d6b5",
   "metadata": {},
   "outputs": [],
   "source": [
    "low_entropy_df = df[df[\"F37\"] < 1.5]  # example threshold\n",
    "plt.scatter(df[\"F37\"], df[\"Rugosity\"], alpha=0.3, label=\"All Data\")\n",
    "plt.scatter(low_entropy_df[\"F37\"], low_entropy_df[\"Rugosity\"], color=\"red\", label=\"Low F37 (<1.5)\")\n",
    "plt.xlabel(\"F37 (Green Entropy)\")\n",
    "plt.ylabel(\"Rugosity\")\n",
    "plt.legend()\n",
    "plt.title(\"Highlighting Low F37 and Rugosity\")\n",
    "plt.show()\n"
   ]
  },
  {
   "cell_type": "code",
   "execution_count": null,
   "id": "eb8459fa-5837-402e-9649-01d9eff5dc9c",
   "metadata": {},
   "outputs": [],
   "source": [
    "from plotnine import ggplot, aes, geom_point, geom_smooth, facet_wrap, labs, theme_minimal, theme\n",
    "\n",
    "plot = (\n",
    "    ggplot(df, aes(x=\"F37\", y=\"Rugosity\", color=\"Country\"))\n",
    "    + geom_point(alpha=0.5)\n",
    "    + geom_smooth(method=\"loess\", se=True)  # Adds a smooth line with confidence interval\n",
    "    + labs(title=\"F37 (Green Entropy) vs Rugosity\", x=\"F37\", y=\"Rugosity\")\n",
    "    + theme_minimal()\n",
    "    + theme(figure_size=(10, 6))\n",
    ")\n",
    "plot.draw()"
   ]
  },
  {
   "cell_type": "code",
   "execution_count": null,
   "id": "97d7f694-e8bb-44d9-8543-a103454b32ba",
   "metadata": {},
   "outputs": [],
   "source": [
    "import matplotlib.pyplot as plt\n",
    "\n",
    "plt.figure(figsize=(10, 6))\n",
    "plt.hexbin(df[\"F37\"], df[\"Rugosity\"], gridsize=30, cmap='Greens', mincnt=1)\n",
    "plt.colorbar(label='Point Count')\n",
    "plt.xlabel(\"F37 (Green Entropy)\")\n",
    "plt.ylabel(\"Rugosity\")\n",
    "plt.title(\"F37 vs Rugosity - Density Hexbin\")\n",
    "plt.grid(True)\n",
    "plt.show()\n"
   ]
  },
  {
   "cell_type": "code",
   "execution_count": null,
   "id": "73c2e52c-5f56-4f4e-b776-d793972ee64c",
   "metadata": {},
   "outputs": [],
   "source": [
    "import matplotlib.pyplot as plt\n",
    "\n",
    "plt.figure(figsize=(10, 6))\n",
    "plt.hexbin(df[\"F38\"], df[\"Rugosity\"], gridsize=30, cmap='Blues', mincnt=1)\n",
    "plt.colorbar(label='Point Count')\n",
    "plt.xlabel(\"F38 (Blue Entropy)\")\n",
    "plt.ylabel(\"Rugosity\")\n",
    "plt.title(\"F38 vs Rugosity - Density Hexbin\")\n",
    "plt.grid(True)\n",
    "plt.show()\n"
   ]
  },
  {
   "cell_type": "code",
   "execution_count": null,
   "id": "a4b88a96-dc12-453c-896a-197d2657129b",
   "metadata": {},
   "outputs": [],
   "source": []
  }
 ],
 "metadata": {
  "kernelspec": {
   "display_name": "Python 3 (ipykernel)",
   "language": "python",
   "name": "python3"
  },
  "language_info": {
   "codemirror_mode": {
    "name": "ipython",
    "version": 3
   },
   "file_extension": ".py",
   "mimetype": "text/x-python",
   "name": "python",
   "nbconvert_exporter": "python",
   "pygments_lexer": "ipython3",
   "version": "3.11.9"
  }
 },
 "nbformat": 4,
 "nbformat_minor": 5
}
